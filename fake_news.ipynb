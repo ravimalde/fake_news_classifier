{
 "cells": [
  {
   "cell_type": "markdown",
   "metadata": {},
   "source": [
    "## 1. Importing Libraries & Data Exploration"
   ]
  },
  {
   "cell_type": "code",
   "execution_count": 371,
   "metadata": {},
   "outputs": [],
   "source": [
    "import pandas as pd\n",
    "import numpy as np\n",
    "import matplotlib.pyplot as plt\n",
    "import seaborn as sns\n",
    "import re\n",
    "import pickle\n",
    "\n",
    "import nltk\n",
    "from wordcloud import WordCloud, STOPWORDS\n",
    "from nltk.corpus import wordnet\n",
    "from nltk.tokenize import sent_tokenize, word_tokenize\n",
    "from nltk.corpus import stopwords\n",
    "from nltk.stem import WordNetLemmatizer\n",
    "\n",
    "import sklearn\n",
    "from sklearn.utils import resample\n",
    "from sklearn.model_selection import train_test_split\n",
    "from sklearn.model_selection import StratifiedKFold\n",
    "from sklearn.model_selection import GridSearchCV\n",
    "from sklearn.feature_extraction.text import CountVectorizer, TfidfTransformer\n",
    "from sklearn.linear_model import LogisticRegression\n",
    "from sklearn.ensemble import RandomForestClassifier\n",
    "\n",
    "# import tensorflow as tf\n",
    "from tensorflow import keras\n",
    "from keras.models import Sequential\n",
    "from keras.layers import Dense, Activation, Dropout, GlobalAveragePooling1D, MaxPooling1D, Conv1D, Embedding, Flatten\n",
    "from keras.preprocessing.text import Tokenizer\n",
    "from keras.preprocessing.sequence import pad_sequences"
   ]
  },
  {
   "cell_type": "code",
   "execution_count": 372,
   "metadata": {},
   "outputs": [],
   "source": [
    "df_fake = pd.read_csv('data/Fake.csv.gz')"
   ]
  },
  {
   "cell_type": "code",
   "execution_count": 373,
   "metadata": {},
   "outputs": [],
   "source": [
    "df_fake['fake'] = 1"
   ]
  },
  {
   "cell_type": "code",
   "execution_count": 374,
   "metadata": {},
   "outputs": [
    {
     "data": {
      "text/plain": [
       "23481"
      ]
     },
     "execution_count": 374,
     "metadata": {},
     "output_type": "execute_result"
    }
   ],
   "source": [
    "len(df_fake)"
   ]
  },
  {
   "cell_type": "code",
   "execution_count": 375,
   "metadata": {},
   "outputs": [],
   "source": [
    "df_true = pd.read_csv('data/True.csv.gz')"
   ]
  },
  {
   "cell_type": "code",
   "execution_count": 376,
   "metadata": {},
   "outputs": [],
   "source": [
    "df_true['fake'] = 0"
   ]
  },
  {
   "cell_type": "code",
   "execution_count": 377,
   "metadata": {},
   "outputs": [
    {
     "data": {
      "text/plain": [
       "21417"
      ]
     },
     "execution_count": 377,
     "metadata": {},
     "output_type": "execute_result"
    }
   ],
   "source": [
    "len(df_true)"
   ]
  },
  {
   "cell_type": "markdown",
   "metadata": {},
   "source": [
    "Adding the binary 1/0 labels for fake/real news articles."
   ]
  },
  {
   "cell_type": "code",
   "execution_count": 378,
   "metadata": {},
   "outputs": [],
   "source": [
    "df_true_upsampled = resample(df_true, replace=True, n_samples=len(df_fake), random_state=42)"
   ]
  },
  {
   "cell_type": "code",
   "execution_count": 379,
   "metadata": {},
   "outputs": [],
   "source": [
    "df = pd.concat([df_fake, df_true_upsampled], axis=0)"
   ]
  },
  {
   "cell_type": "code",
   "execution_count": 380,
   "metadata": {},
   "outputs": [],
   "source": [
    "df = sklearn.utils.shuffle(df, random_state=42).reset_index(drop=True)"
   ]
  },
  {
   "cell_type": "markdown",
   "metadata": {},
   "source": [
    "Upsampling the real news articles to counter the slight class imbalance that was present. The fake and real news dataframes were then concatenated and shuffled to get an even distribution of the classes throughout the dataframe."
   ]
  },
  {
   "cell_type": "code",
   "execution_count": 381,
   "metadata": {},
   "outputs": [
    {
     "data": {
      "text/plain": [
       "46962"
      ]
     },
     "execution_count": 381,
     "metadata": {},
     "output_type": "execute_result"
    }
   ],
   "source": [
    "len(df)"
   ]
  },
  {
   "cell_type": "code",
   "execution_count": 382,
   "metadata": {},
   "outputs": [
    {
     "data": {
      "text/plain": [
       "1    0.5\n",
       "0    0.5\n",
       "Name: fake, dtype: float64"
      ]
     },
     "execution_count": 382,
     "metadata": {},
     "output_type": "execute_result"
    }
   ],
   "source": [
    "df['fake'].value_counts(normalize=True)"
   ]
  },
  {
   "cell_type": "code",
   "execution_count": 383,
   "metadata": {},
   "outputs": [],
   "source": [
    "df.drop(columns=['text', 'subject', 'date'], inplace=True)\n",
    "df.rename(columns={'title':'headline'}, inplace=True)"
   ]
  },
  {
   "cell_type": "code",
   "execution_count": 384,
   "metadata": {},
   "outputs": [
    {
     "data": {
      "text/plain": [
       "headline    0\n",
       "fake        0\n",
       "dtype: int64"
      ]
     },
     "execution_count": 384,
     "metadata": {},
     "output_type": "execute_result"
    }
   ],
   "source": [
    "df.isnull().sum()"
   ]
  },
  {
   "cell_type": "code",
   "execution_count": 385,
   "metadata": {},
   "outputs": [],
   "source": [
    "df.to_csv('data/data_cleaned.csv')"
   ]
  },
  {
   "cell_type": "markdown",
   "metadata": {},
   "source": [
    "We are only interested in predicting the validity of the news article from the headline alone, therefore I remove the 'text', 'subject' and 'date' columns. This dataframe is then saved as a csv to be loaded in for a later section."
   ]
  },
  {
   "cell_type": "code",
   "execution_count": 386,
   "metadata": {},
   "outputs": [
    {
     "data": {
      "text/html": [
       "<div>\n",
       "<style scoped>\n",
       "    .dataframe tbody tr th:only-of-type {\n",
       "        vertical-align: middle;\n",
       "    }\n",
       "\n",
       "    .dataframe tbody tr th {\n",
       "        vertical-align: top;\n",
       "    }\n",
       "\n",
       "    .dataframe thead th {\n",
       "        text-align: right;\n",
       "    }\n",
       "</style>\n",
       "<table border=\"1\" class=\"dataframe\">\n",
       "  <thead>\n",
       "    <tr style=\"text-align: right;\">\n",
       "      <th></th>\n",
       "      <th>headline</th>\n",
       "      <th>fake</th>\n",
       "    </tr>\n",
       "  </thead>\n",
       "  <tbody>\n",
       "    <tr>\n",
       "      <td>0</td>\n",
       "      <td>NOT KIDDING! OBAMA Agrees To Turkey’s Demands…...</td>\n",
       "      <td>1</td>\n",
       "    </tr>\n",
       "    <tr>\n",
       "      <td>1</td>\n",
       "      <td>Clinton, in book, says Trump's debate stalking...</td>\n",
       "      <td>0</td>\n",
       "    </tr>\n",
       "    <tr>\n",
       "      <td>2</td>\n",
       "      <td>BREAKING NEWS: Susan Rice ADMITS To Unmasking ...</td>\n",
       "      <td>1</td>\n",
       "    </tr>\n",
       "    <tr>\n",
       "      <td>3</td>\n",
       "      <td>China's interference in Hong Kong reaching ala...</td>\n",
       "      <td>0</td>\n",
       "    </tr>\n",
       "    <tr>\n",
       "      <td>4</td>\n",
       "      <td>WOW! FOX REPORTER GOES OFF On SEIU Thug For Te...</td>\n",
       "      <td>1</td>\n",
       "    </tr>\n",
       "  </tbody>\n",
       "</table>\n",
       "</div>"
      ],
      "text/plain": [
       "                                            headline  fake\n",
       "0  NOT KIDDING! OBAMA Agrees To Turkey’s Demands…...     1\n",
       "1  Clinton, in book, says Trump's debate stalking...     0\n",
       "2  BREAKING NEWS: Susan Rice ADMITS To Unmasking ...     1\n",
       "3  China's interference in Hong Kong reaching ala...     0\n",
       "4  WOW! FOX REPORTER GOES OFF On SEIU Thug For Te...     1"
      ]
     },
     "execution_count": 386,
     "metadata": {},
     "output_type": "execute_result"
    }
   ],
   "source": [
    "df.head()"
   ]
  },
  {
   "cell_type": "markdown",
   "metadata": {},
   "source": [
    "## 2. Preprocessing with NLTK"
   ]
  },
  {
   "cell_type": "markdown",
   "metadata": {},
   "source": [
    "For the baseline model, NLP preprocessing is done with NLTK. This includes the following stages:\n",
    "\n",
    "- Removing punctuation\n",
    "- Tokenisation\n",
    "- Removing stop words\n",
    "- Part of speech tagging\n",
    "- Lemmatisation\n",
    "- Word vectorization\n",
    "- TFIDF transformation"
   ]
  },
  {
   "cell_type": "markdown",
   "metadata": {},
   "source": [
    "### 2.1. Removing Punctuation"
   ]
  },
  {
   "cell_type": "code",
   "execution_count": 387,
   "metadata": {},
   "outputs": [],
   "source": [
    "df['headline'] = df['headline'].apply(lambda x: re.sub(r\"\\<.*\\>\", \"\", x))"
   ]
  },
  {
   "cell_type": "code",
   "execution_count": 388,
   "metadata": {},
   "outputs": [],
   "source": [
    "punctuation = '''!()-[]{};:\"\\,<>./?@#$%^&*_~'''"
   ]
  },
  {
   "cell_type": "code",
   "execution_count": 389,
   "metadata": {},
   "outputs": [],
   "source": [
    "def remove_punctuation(review):\n",
    "    cleaned = \"\".join([char for char in review if char not in punctuation])\n",
    "    return cleaned"
   ]
  },
  {
   "cell_type": "code",
   "execution_count": 390,
   "metadata": {},
   "outputs": [],
   "source": [
    "df['headline'] = df['headline'].apply(lambda x: remove_punctuation(x))"
   ]
  },
  {
   "cell_type": "code",
   "execution_count": 391,
   "metadata": {},
   "outputs": [
    {
     "data": {
      "text/html": [
       "<div>\n",
       "<style scoped>\n",
       "    .dataframe tbody tr th:only-of-type {\n",
       "        vertical-align: middle;\n",
       "    }\n",
       "\n",
       "    .dataframe tbody tr th {\n",
       "        vertical-align: top;\n",
       "    }\n",
       "\n",
       "    .dataframe thead th {\n",
       "        text-align: right;\n",
       "    }\n",
       "</style>\n",
       "<table border=\"1\" class=\"dataframe\">\n",
       "  <thead>\n",
       "    <tr style=\"text-align: right;\">\n",
       "      <th></th>\n",
       "      <th>headline</th>\n",
       "      <th>fake</th>\n",
       "    </tr>\n",
       "  </thead>\n",
       "  <tbody>\n",
       "    <tr>\n",
       "      <td>0</td>\n",
       "      <td>NOT KIDDING OBAMA Agrees To Turkey’s Demands…U...</td>\n",
       "      <td>1</td>\n",
       "    </tr>\n",
       "    <tr>\n",
       "      <td>1</td>\n",
       "      <td>Clinton in book says Trump's debate stalking m...</td>\n",
       "      <td>0</td>\n",
       "    </tr>\n",
       "    <tr>\n",
       "      <td>2</td>\n",
       "      <td>BREAKING NEWS Susan Rice ADMITS To Unmasking “...</td>\n",
       "      <td>1</td>\n",
       "    </tr>\n",
       "    <tr>\n",
       "      <td>3</td>\n",
       "      <td>China's interference in Hong Kong reaching ala...</td>\n",
       "      <td>0</td>\n",
       "    </tr>\n",
       "    <tr>\n",
       "      <td>4</td>\n",
       "      <td>WOW FOX REPORTER GOES OFF On SEIU Thug For Tel...</td>\n",
       "      <td>1</td>\n",
       "    </tr>\n",
       "  </tbody>\n",
       "</table>\n",
       "</div>"
      ],
      "text/plain": [
       "                                            headline  fake\n",
       "0  NOT KIDDING OBAMA Agrees To Turkey’s Demands…U...     1\n",
       "1  Clinton in book says Trump's debate stalking m...     0\n",
       "2  BREAKING NEWS Susan Rice ADMITS To Unmasking “...     1\n",
       "3  China's interference in Hong Kong reaching ala...     0\n",
       "4  WOW FOX REPORTER GOES OFF On SEIU Thug For Tel...     1"
      ]
     },
     "execution_count": 391,
     "metadata": {},
     "output_type": "execute_result"
    }
   ],
   "source": [
    "df.head()"
   ]
  },
  {
   "cell_type": "markdown",
   "metadata": {},
   "source": [
    "### 2.2. Wordclouds"
   ]
  },
  {
   "cell_type": "code",
   "execution_count": 392,
   "metadata": {},
   "outputs": [],
   "source": [
    "def remove_stopwords(review_tokenized):\n",
    "    no_stop = [word.lower() for word in review_tokenized if word.lower() not in stop_words]\n",
    "    return no_stop"
   ]
  },
  {
   "cell_type": "code",
   "execution_count": 393,
   "metadata": {},
   "outputs": [],
   "source": [
    "def create_wordcloud(words, type):\n",
    "    cloud = WordCloud(background_color=\"white\", max_words=200, colormap=\"viridis\", stopwords = set(STOPWORDS))\n",
    "    cloud.generate(words)\n",
    "    cloud.to_file(f\"wordclouds/{type}_cloud.png\")"
   ]
  },
  {
   "cell_type": "code",
   "execution_count": 394,
   "metadata": {},
   "outputs": [],
   "source": [
    "df_fake = df.loc[df['fake'] == 1]"
   ]
  },
  {
   "cell_type": "code",
   "execution_count": 395,
   "metadata": {},
   "outputs": [],
   "source": [
    "fake_words = []\n",
    "for i, row in df_fake.iterrows():\n",
    "    fake_words.append(row['headline'].lower())\n",
    "fake_words = \" \".join([fake_words[i] for i in range(len(fake_words))])"
   ]
  },
  {
   "cell_type": "code",
   "execution_count": 396,
   "metadata": {},
   "outputs": [],
   "source": [
    "create_wordcloud(fake_words, \"fake\")"
   ]
  },
  {
   "cell_type": "code",
   "execution_count": 397,
   "metadata": {},
   "outputs": [],
   "source": [
    "df_real = df.loc[df['fake'] == 0]"
   ]
  },
  {
   "cell_type": "code",
   "execution_count": 398,
   "metadata": {},
   "outputs": [],
   "source": [
    "real_words = []\n",
    "for i, row in df_real.iterrows():\n",
    "    real_words.append(row['headline'].lower())\n",
    "real_words = \" \".join([real_words[i] for i in range(len(real_words))])"
   ]
  },
  {
   "cell_type": "code",
   "execution_count": 399,
   "metadata": {},
   "outputs": [],
   "source": [
    "create_wordcloud(real_words, \"real\")"
   ]
  },
  {
   "cell_type": "markdown",
   "metadata": {},
   "source": [
    "### 2.3. Tokenisation, Removing Stop Words, POS Tagging & Lemmatisation"
   ]
  },
  {
   "cell_type": "code",
   "execution_count": 400,
   "metadata": {},
   "outputs": [],
   "source": [
    "lemmatizer = WordNetLemmatizer()"
   ]
  },
  {
   "cell_type": "code",
   "execution_count": 401,
   "metadata": {},
   "outputs": [],
   "source": [
    "def get_wordnet_pos(tag):\n",
    "    if tag.startswith('J'):\n",
    "        return wordnet.ADJ\n",
    "    elif tag.startswith('V'):\n",
    "        return wordnet.VERB\n",
    "    elif tag.startswith('N'):\n",
    "        return wordnet.NOUN\n",
    "    elif tag.startswith('R'):\n",
    "        return wordnet.ADV\n",
    "    else:          \n",
    "        return None"
   ]
  },
  {
   "cell_type": "code",
   "execution_count": 402,
   "metadata": {},
   "outputs": [],
   "source": [
    "def remove_stopwords(headline_tokenized):\n",
    "    no_stop = [word.lower() for word in headline_tokenized if word.lower() not in stop_words]\n",
    "    return no_stop"
   ]
  },
  {
   "cell_type": "code",
   "execution_count": 403,
   "metadata": {},
   "outputs": [],
   "source": [
    "def lemmatize_headline(review):\n",
    "    tokenized = nltk.word_tokenize(review)\n",
    "    no_stop = remove_stopwords(tokenized)\n",
    "    nltk_tagged = nltk.pos_tag(no_stop)  \n",
    "    wn_tagged = map(lambda x: (x[0], get_wordnet_pos(x[1])), nltk_tagged)\n",
    "    lemmatized_sentence = []\n",
    "    for word, tag in wn_tagged:\n",
    "        if tag is None:\n",
    "            lemmatized_sentence.append(word)\n",
    "        else:        \n",
    "            lemmatized_sentence.append(lemmatizer.lemmatize(word, tag))\n",
    "    return \" \".join(lemmatized_sentence)"
   ]
  },
  {
   "cell_type": "code",
   "execution_count": 404,
   "metadata": {},
   "outputs": [],
   "source": [
    "stop_words = stopwords.words(\"English\")"
   ]
  },
  {
   "cell_type": "code",
   "execution_count": 405,
   "metadata": {},
   "outputs": [],
   "source": [
    "df['headline'] = df['headline'].apply(lambda x: lemmatize_headline(x))"
   ]
  },
  {
   "cell_type": "code",
   "execution_count": 406,
   "metadata": {},
   "outputs": [
    {
     "data": {
      "text/html": [
       "<div>\n",
       "<style scoped>\n",
       "    .dataframe tbody tr th:only-of-type {\n",
       "        vertical-align: middle;\n",
       "    }\n",
       "\n",
       "    .dataframe tbody tr th {\n",
       "        vertical-align: top;\n",
       "    }\n",
       "\n",
       "    .dataframe thead th {\n",
       "        text-align: right;\n",
       "    }\n",
       "</style>\n",
       "<table border=\"1\" class=\"dataframe\">\n",
       "  <thead>\n",
       "    <tr style=\"text-align: right;\">\n",
       "      <th></th>\n",
       "      <th>headline</th>\n",
       "      <th>fake</th>\n",
       "    </tr>\n",
       "  </thead>\n",
       "  <tbody>\n",
       "    <tr>\n",
       "      <td>0</td>\n",
       "      <td>kid obama agree turkey ’ demands…us troop orde...</td>\n",
       "      <td>1</td>\n",
       "    </tr>\n",
       "    <tr>\n",
       "      <td>1</td>\n",
       "      <td>clinton book say trump 's debate stalking make...</td>\n",
       "      <td>0</td>\n",
       "    </tr>\n",
       "    <tr>\n",
       "      <td>2</td>\n",
       "      <td>break news susan rice admits unmask “ us perso...</td>\n",
       "      <td>1</td>\n",
       "    </tr>\n",
       "    <tr>\n",
       "      <td>3</td>\n",
       "      <td>china 's interference hong kong reach alarm le...</td>\n",
       "      <td>0</td>\n",
       "    </tr>\n",
       "    <tr>\n",
       "      <td>4</td>\n",
       "      <td>wow fox reporter go seiu thug tell black prote...</td>\n",
       "      <td>1</td>\n",
       "    </tr>\n",
       "  </tbody>\n",
       "</table>\n",
       "</div>"
      ],
      "text/plain": [
       "                                            headline  fake\n",
       "0  kid obama agree turkey ’ demands…us troop orde...     1\n",
       "1  clinton book say trump 's debate stalking make...     0\n",
       "2  break news susan rice admits unmask “ us perso...     1\n",
       "3  china 's interference hong kong reach alarm le...     0\n",
       "4  wow fox reporter go seiu thug tell black prote...     1"
      ]
     },
     "execution_count": 406,
     "metadata": {},
     "output_type": "execute_result"
    }
   ],
   "source": [
    "df.head()"
   ]
  },
  {
   "cell_type": "markdown",
   "metadata": {},
   "source": [
    "### 2.4. Vectorisation and TFIDF Transformation"
   ]
  },
  {
   "cell_type": "code",
   "execution_count": 407,
   "metadata": {},
   "outputs": [],
   "source": [
    "vectorizer = CountVectorizer(max_features=1000, min_df=5, max_df=0.7)\n",
    "X = vectorizer.fit_transform(df['headline'].values)"
   ]
  },
  {
   "cell_type": "code",
   "execution_count": 408,
   "metadata": {},
   "outputs": [],
   "source": [
    "tfidf_converter = TfidfTransformer()\n",
    "X = tfidf_converter.fit_transform(X).toarray()"
   ]
  },
  {
   "cell_type": "code",
   "execution_count": 409,
   "metadata": {},
   "outputs": [],
   "source": [
    "y = df.drop(columns='headline')"
   ]
  },
  {
   "cell_type": "markdown",
   "metadata": {},
   "source": [
    "## 3. Modelling with Scikit-learn"
   ]
  },
  {
   "cell_type": "code",
   "execution_count": 44,
   "metadata": {},
   "outputs": [],
   "source": [
    "X_train, X_test, y_train, y_test = train_test_split(X, y.values, test_size=0.1)"
   ]
  },
  {
   "cell_type": "code",
   "execution_count": 45,
   "metadata": {},
   "outputs": [],
   "source": [
    "X_train, X_val, y_train, y_val = train_test_split(X_train, y_train, test_size=0.1)"
   ]
  },
  {
   "cell_type": "code",
   "execution_count": 46,
   "metadata": {},
   "outputs": [],
   "source": [
    "kfold = StratifiedKFold(n_splits=5, shuffle=True, random_state=42)"
   ]
  },
  {
   "cell_type": "code",
   "execution_count": 301,
   "metadata": {},
   "outputs": [],
   "source": [
    "params = {'penalty': ['l1', 'l2'], 'C': [0.01,0.1,1,10], 'solver':['newton-cg','lbfgs','liblinear','sag','saga']}"
   ]
  },
  {
   "cell_type": "code",
   "execution_count": 302,
   "metadata": {},
   "outputs": [],
   "source": [
    "log_reg = LogisticRegression(random_state=42)"
   ]
  },
  {
   "cell_type": "code",
   "execution_count": 303,
   "metadata": {},
   "outputs": [],
   "source": [
    "clf = GridSearchCV(log_reg, params, n_jobs=-1, cv=kfold)"
   ]
  },
  {
   "cell_type": "code",
   "execution_count": 304,
   "metadata": {},
   "outputs": [
    {
     "name": "stderr",
     "output_type": "stream",
     "text": [
      "/Users/ravimalde/opt/anaconda3/envs/learn-env/lib/python3.6/site-packages/sklearn/linear_model/_logistic.py:940: ConvergenceWarning: lbfgs failed to converge (status=1):\n",
      "STOP: TOTAL NO. of ITERATIONS REACHED LIMIT.\n",
      "\n",
      "Increase the number of iterations (max_iter) or scale the data as shown in:\n",
      "    https://scikit-learn.org/stable/modules/preprocessing.html\n",
      "Please also refer to the documentation for alternative solver options:\n",
      "    https://scikit-learn.org/stable/modules/linear_model.html#logistic-regression\n",
      "  extra_warning_msg=_LOGISTIC_SOLVER_CONVERGENCE_MSG)\n"
     ]
    },
    {
     "data": {
      "text/plain": [
       "GridSearchCV(cv=StratifiedKFold(n_splits=5, random_state=42, shuffle=True),\n",
       "             error_score=nan,\n",
       "             estimator=LogisticRegression(C=1.0, class_weight=None, dual=False,\n",
       "                                          fit_intercept=True,\n",
       "                                          intercept_scaling=1, l1_ratio=None,\n",
       "                                          max_iter=100, multi_class='auto',\n",
       "                                          n_jobs=None, penalty='l2',\n",
       "                                          random_state=42, solver='lbfgs',\n",
       "                                          tol=0.0001, verbose=0,\n",
       "                                          warm_start=False),\n",
       "             iid='deprecated', n_jobs=-1,\n",
       "             param_grid={'C': [0.01, 0.1, 1, 10], 'penalty': ['l1', 'l2'],\n",
       "                         'solver': ['newton-cg', 'lbfgs', 'liblinear', 'sag',\n",
       "                                    'saga']},\n",
       "             pre_dispatch='2*n_jobs', refit=True, return_train_score=False,\n",
       "             scoring=None, verbose=0)"
      ]
     },
     "execution_count": 304,
     "metadata": {},
     "output_type": "execute_result"
    }
   ],
   "source": [
    "clf.fit(X_train, y_train)"
   ]
  },
  {
   "cell_type": "code",
   "execution_count": 305,
   "metadata": {},
   "outputs": [],
   "source": [
    "opt = pd.DataFrame(clf.cv_results_)\n",
    "cols = [col for col in opt.columns if ('mean' in col or 'std' in col or 'rank' in col) and 'time' not in col]\n",
    "params = pd.DataFrame(list(opt.params))\n",
    "opt = pd.concat([params, opt[cols]], axis=1)"
   ]
  },
  {
   "cell_type": "code",
   "execution_count": 306,
   "metadata": {},
   "outputs": [
    {
     "data": {
      "text/html": [
       "<div>\n",
       "<style scoped>\n",
       "    .dataframe tbody tr th:only-of-type {\n",
       "        vertical-align: middle;\n",
       "    }\n",
       "\n",
       "    .dataframe tbody tr th {\n",
       "        vertical-align: top;\n",
       "    }\n",
       "\n",
       "    .dataframe thead th {\n",
       "        text-align: right;\n",
       "    }\n",
       "</style>\n",
       "<table border=\"1\" class=\"dataframe\">\n",
       "  <thead>\n",
       "    <tr style=\"text-align: right;\">\n",
       "      <th></th>\n",
       "      <th>C</th>\n",
       "      <th>penalty</th>\n",
       "      <th>solver</th>\n",
       "      <th>mean_test_score</th>\n",
       "      <th>std_test_score</th>\n",
       "      <th>rank_test_score</th>\n",
       "    </tr>\n",
       "  </thead>\n",
       "  <tbody>\n",
       "    <tr>\n",
       "      <td>6</td>\n",
       "      <td>0.01</td>\n",
       "      <td>l2</td>\n",
       "      <td>lbfgs</td>\n",
       "      <td>0.725669</td>\n",
       "      <td>0.004710</td>\n",
       "      <td>1</td>\n",
       "    </tr>\n",
       "    <tr>\n",
       "      <td>16</td>\n",
       "      <td>0.10</td>\n",
       "      <td>l2</td>\n",
       "      <td>lbfgs</td>\n",
       "      <td>0.725485</td>\n",
       "      <td>0.004851</td>\n",
       "      <td>2</td>\n",
       "    </tr>\n",
       "    <tr>\n",
       "      <td>26</td>\n",
       "      <td>1.00</td>\n",
       "      <td>l2</td>\n",
       "      <td>lbfgs</td>\n",
       "      <td>0.725196</td>\n",
       "      <td>0.004596</td>\n",
       "      <td>3</td>\n",
       "    </tr>\n",
       "    <tr>\n",
       "      <td>36</td>\n",
       "      <td>10.00</td>\n",
       "      <td>l2</td>\n",
       "      <td>lbfgs</td>\n",
       "      <td>0.725091</td>\n",
       "      <td>0.004770</td>\n",
       "      <td>4</td>\n",
       "    </tr>\n",
       "    <tr>\n",
       "      <td>28</td>\n",
       "      <td>1.00</td>\n",
       "      <td>l2</td>\n",
       "      <td>sag</td>\n",
       "      <td>0.724644</td>\n",
       "      <td>0.005598</td>\n",
       "      <td>5</td>\n",
       "    </tr>\n",
       "    <tr>\n",
       "      <td>8</td>\n",
       "      <td>0.01</td>\n",
       "      <td>l2</td>\n",
       "      <td>sag</td>\n",
       "      <td>0.724644</td>\n",
       "      <td>0.005598</td>\n",
       "      <td>5</td>\n",
       "    </tr>\n",
       "    <tr>\n",
       "      <td>38</td>\n",
       "      <td>10.00</td>\n",
       "      <td>l2</td>\n",
       "      <td>sag</td>\n",
       "      <td>0.724644</td>\n",
       "      <td>0.005598</td>\n",
       "      <td>5</td>\n",
       "    </tr>\n",
       "    <tr>\n",
       "      <td>18</td>\n",
       "      <td>0.10</td>\n",
       "      <td>l2</td>\n",
       "      <td>sag</td>\n",
       "      <td>0.724644</td>\n",
       "      <td>0.005598</td>\n",
       "      <td>5</td>\n",
       "    </tr>\n",
       "    <tr>\n",
       "      <td>19</td>\n",
       "      <td>0.10</td>\n",
       "      <td>l2</td>\n",
       "      <td>saga</td>\n",
       "      <td>0.724223</td>\n",
       "      <td>0.005883</td>\n",
       "      <td>9</td>\n",
       "    </tr>\n",
       "    <tr>\n",
       "      <td>34</td>\n",
       "      <td>10.00</td>\n",
       "      <td>l1</td>\n",
       "      <td>saga</td>\n",
       "      <td>0.724223</td>\n",
       "      <td>0.005883</td>\n",
       "      <td>9</td>\n",
       "    </tr>\n",
       "  </tbody>\n",
       "</table>\n",
       "</div>"
      ],
      "text/plain": [
       "        C penalty solver  mean_test_score  std_test_score  rank_test_score\n",
       "6    0.01      l2  lbfgs         0.725669        0.004710                1\n",
       "16   0.10      l2  lbfgs         0.725485        0.004851                2\n",
       "26   1.00      l2  lbfgs         0.725196        0.004596                3\n",
       "36  10.00      l2  lbfgs         0.725091        0.004770                4\n",
       "28   1.00      l2    sag         0.724644        0.005598                5\n",
       "8    0.01      l2    sag         0.724644        0.005598                5\n",
       "38  10.00      l2    sag         0.724644        0.005598                5\n",
       "18   0.10      l2    sag         0.724644        0.005598                5\n",
       "19   0.10      l2   saga         0.724223        0.005883                9\n",
       "34  10.00      l1   saga         0.724223        0.005883                9"
      ]
     },
     "execution_count": 306,
     "metadata": {},
     "output_type": "execute_result"
    }
   ],
   "source": [
    "opt.sort_values(by='rank_test_score', ascending=True).head(10)"
   ]
  },
  {
   "cell_type": "markdown",
   "metadata": {},
   "source": [
    "Since there is very little difference in validation score between the various logistic regression configurations, the best performing from this grid search will be selected as the baseline model."
   ]
  },
  {
   "cell_type": "code",
   "execution_count": 307,
   "metadata": {},
   "outputs": [
    {
     "data": {
      "text/plain": [
       "LogisticRegression(C=0.01, class_weight=None, dual=False, fit_intercept=True,\n",
       "                   intercept_scaling=1, l1_ratio=None, max_iter=100,\n",
       "                   multi_class='auto', n_jobs=None, penalty='l2',\n",
       "                   random_state=42, solver='lbfgs', tol=0.0001, verbose=0,\n",
       "                   warm_start=False)"
      ]
     },
     "execution_count": 307,
     "metadata": {},
     "output_type": "execute_result"
    }
   ],
   "source": [
    "best_model = clf.best_estimator_\n",
    "best_model"
   ]
  },
  {
   "cell_type": "code",
   "execution_count": 308,
   "metadata": {},
   "outputs": [
    {
     "data": {
      "text/plain": [
       "0.7239076712760923"
      ]
     },
     "execution_count": 308,
     "metadata": {},
     "output_type": "execute_result"
    }
   ],
   "source": [
    "best_model.score(X_train, y_train)"
   ]
  },
  {
   "cell_type": "code",
   "execution_count": 309,
   "metadata": {},
   "outputs": [
    {
     "data": {
      "text/plain": [
       "0.7307783297847172"
      ]
     },
     "execution_count": 309,
     "metadata": {},
     "output_type": "execute_result"
    }
   ],
   "source": [
    "best_model.score(X_val, y_val)"
   ]
  },
  {
   "cell_type": "markdown",
   "metadata": {},
   "source": [
    "## 4. Preprocessing with Tensorflow"
   ]
  },
  {
   "cell_type": "markdown",
   "metadata": {},
   "source": [
    "For the neural networks, NLP preprocessing is done with Tensorflow. This includes the following stages:\n",
    "\n",
    "- Tokenisation\n",
    "- Sequencing\n",
    "- Padding"
   ]
  },
  {
   "cell_type": "code",
   "execution_count": 439,
   "metadata": {},
   "outputs": [],
   "source": [
    "df2 = pd.read_csv('data/data_cleaned.csv')\n",
    "df2.drop(columns='Unnamed: 0', inplace=True)"
   ]
  },
  {
   "cell_type": "code",
   "execution_count": 440,
   "metadata": {},
   "outputs": [
    {
     "data": {
      "text/html": [
       "<div>\n",
       "<style scoped>\n",
       "    .dataframe tbody tr th:only-of-type {\n",
       "        vertical-align: middle;\n",
       "    }\n",
       "\n",
       "    .dataframe tbody tr th {\n",
       "        vertical-align: top;\n",
       "    }\n",
       "\n",
       "    .dataframe thead th {\n",
       "        text-align: right;\n",
       "    }\n",
       "</style>\n",
       "<table border=\"1\" class=\"dataframe\">\n",
       "  <thead>\n",
       "    <tr style=\"text-align: right;\">\n",
       "      <th></th>\n",
       "      <th>headline</th>\n",
       "      <th>fake</th>\n",
       "    </tr>\n",
       "  </thead>\n",
       "  <tbody>\n",
       "    <tr>\n",
       "      <td>0</td>\n",
       "      <td>NOT KIDDING! OBAMA Agrees To Turkey’s Demands…...</td>\n",
       "      <td>1</td>\n",
       "    </tr>\n",
       "    <tr>\n",
       "      <td>1</td>\n",
       "      <td>Clinton, in book, says Trump's debate stalking...</td>\n",
       "      <td>0</td>\n",
       "    </tr>\n",
       "    <tr>\n",
       "      <td>2</td>\n",
       "      <td>BREAKING NEWS: Susan Rice ADMITS To Unmasking ...</td>\n",
       "      <td>1</td>\n",
       "    </tr>\n",
       "    <tr>\n",
       "      <td>3</td>\n",
       "      <td>China's interference in Hong Kong reaching ala...</td>\n",
       "      <td>0</td>\n",
       "    </tr>\n",
       "    <tr>\n",
       "      <td>4</td>\n",
       "      <td>WOW! FOX REPORTER GOES OFF On SEIU Thug For Te...</td>\n",
       "      <td>1</td>\n",
       "    </tr>\n",
       "  </tbody>\n",
       "</table>\n",
       "</div>"
      ],
      "text/plain": [
       "                                            headline  fake\n",
       "0  NOT KIDDING! OBAMA Agrees To Turkey’s Demands…...     1\n",
       "1  Clinton, in book, says Trump's debate stalking...     0\n",
       "2  BREAKING NEWS: Susan Rice ADMITS To Unmasking ...     1\n",
       "3  China's interference in Hong Kong reaching ala...     0\n",
       "4  WOW! FOX REPORTER GOES OFF On SEIU Thug For Te...     1"
      ]
     },
     "execution_count": 440,
     "metadata": {},
     "output_type": "execute_result"
    }
   ],
   "source": [
    "df2.head()"
   ]
  },
  {
   "cell_type": "code",
   "execution_count": 442,
   "metadata": {},
   "outputs": [],
   "source": [
    "X_train, X_test, y_train, y_test = train_test_split(df2['headline'].values, df2['fake'].values, test_size=0.1)"
   ]
  },
  {
   "cell_type": "code",
   "execution_count": 443,
   "metadata": {},
   "outputs": [],
   "source": [
    "X_train, X_val, y_train, y_val = train_test_split(X_train, y_train, test_size=0.1)"
   ]
  },
  {
   "cell_type": "code",
   "execution_count": 444,
   "metadata": {},
   "outputs": [],
   "source": [
    "tokenizer = Tokenizer(num_words=1500, oov_token='UNK')"
   ]
  },
  {
   "cell_type": "code",
   "execution_count": 445,
   "metadata": {},
   "outputs": [],
   "source": [
    "tokenizer.fit_on_texts(X_train)"
   ]
  },
  {
   "cell_type": "code",
   "execution_count": 446,
   "metadata": {},
   "outputs": [],
   "source": [
    "X_train = tokenizer.texts_to_sequences(X_train)"
   ]
  },
  {
   "cell_type": "code",
   "execution_count": 447,
   "metadata": {},
   "outputs": [
    {
     "data": {
      "text/plain": [
       "44"
      ]
     },
     "execution_count": 447,
     "metadata": {},
     "output_type": "execute_result"
    }
   ],
   "source": [
    "max_length = max([len(x) for x in X_train])\n",
    "max_length"
   ]
  },
  {
   "cell_type": "code",
   "execution_count": 448,
   "metadata": {},
   "outputs": [],
   "source": [
    "lengths = [len(x) for x in X_train]"
   ]
  },
  {
   "cell_type": "code",
   "execution_count": 449,
   "metadata": {},
   "outputs": [
    {
     "data": {
      "image/png": "[encoded data removed]",
      "text/plain": [
       "<Figure size 864x432 with 1 Axes>"
      ]
     },
     "metadata": {
      "needs_background": "light"
     },
     "output_type": "display_data"
    }
   ],
   "source": [
    "plt.figure(figsize=(12,6))\n",
    "plt.hist(lengths, bins=20)\n",
    "plt.xlabel('Number of Words in Headline')\n",
    "plt.ylabel('Frequency')\n",
    "plt.show()"
   ]
  },
  {
   "cell_type": "code",
   "execution_count": 450,
   "metadata": {},
   "outputs": [],
   "source": [
    "X_train = pad_sequences(X_train, padding='post', truncating='post', maxlen=20)"
   ]
  },
  {
   "cell_type": "markdown",
   "metadata": {},
   "source": [
    "We don't want the sequences to be too sparse, so the max length a sequence can be is 20 words long. This captures all words for the vast majority of  headlines in the training set."
   ]
  },
  {
   "cell_type": "code",
   "execution_count": 451,
   "metadata": {},
   "outputs": [],
   "source": [
    "with open('tokenizer_news.pickle', 'wb') as handle:\n",
    "    pickle.dump(tokenizer, handle, protocol=pickle.HIGHEST_PROTOCOL)"
   ]
  },
  {
   "cell_type": "markdown",
   "metadata": {},
   "source": [
    "Saving the tokeniser so that it can be used in the Flask application."
   ]
  },
  {
   "cell_type": "code",
   "execution_count": 452,
   "metadata": {},
   "outputs": [],
   "source": [
    "X_val = tokenizer.texts_to_sequences(X_val)\n",
    "X_val = pad_sequences(X_val, padding='post', truncating='post', maxlen=20)"
   ]
  },
  {
   "cell_type": "code",
   "execution_count": 453,
   "metadata": {},
   "outputs": [],
   "source": [
    "X_test = tokenizer.texts_to_sequences(X_test)\n",
    "X_test = pad_sequences(X_test, padding='post', truncating='post', maxlen=20)"
   ]
  },
  {
   "cell_type": "markdown",
   "metadata": {},
   "source": [
    "Tokenising and padding the validation and test datasets with the tokeniser fitted to the training dataset."
   ]
  },
  {
   "cell_type": "markdown",
   "metadata": {},
   "source": [
    "## 5. Modelling with Tensorflow/Keras"
   ]
  },
  {
   "cell_type": "markdown",
   "metadata": {},
   "source": [
    "### 5.1. Dense Neural Network"
   ]
  },
  {
   "cell_type": "code",
   "execution_count": 538,
   "metadata": {},
   "outputs": [
    {
     "name": "stdout",
     "output_type": "stream",
     "text": [
      "Model: \"sequential_41\"\n",
      "_________________________________________________________________\n",
      "Layer (type)                 Output Shape              Param #   \n",
      "=================================================================\n",
      "embedding_22 (Embedding)     (None, 20, 32)            48000     \n",
      "_________________________________________________________________\n",
      "global_average_pooling1d_14  (None, 32)                0         \n",
      "_________________________________________________________________\n",
      "dense_50 (Dense)             (None, 32)                1056      \n",
      "_________________________________________________________________\n",
      "dropout_19 (Dropout)         (None, 32)                0         \n",
      "_________________________________________________________________\n",
      "dense_51 (Dense)             (None, 16)                528       \n",
      "_________________________________________________________________\n",
      "dropout_20 (Dropout)         (None, 16)                0         \n",
      "_________________________________________________________________\n",
      "dense_52 (Dense)             (None, 8)                 136       \n",
      "_________________________________________________________________\n",
      "dropout_21 (Dropout)         (None, 8)                 0         \n",
      "_________________________________________________________________\n",
      "dense_53 (Dense)             (None, 1)                 9         \n",
      "=================================================================\n",
      "Total params: 49,729\n",
      "Trainable params: 49,729\n",
      "Non-trainable params: 0\n",
      "_________________________________________________________________\n"
     ]
    }
   ],
   "source": [
    "dnn = Sequential()\n",
    "dnn.add(Embedding(1500, 32, input_length=20))\n",
    "dnn.add(GlobalAveragePooling1D())\n",
    "dnn.add(Dense(32, activation = 'relu'))\n",
    "dnn.add(Dropout(0.3))\n",
    "dnn.add(Dense(16, activation = 'relu'))\n",
    "dnn.add(Dropout(0.3))\n",
    "dnn.add(Dense(8, activation = 'relu'))\n",
    "dnn.add(Dropout(0.3))\n",
    "dnn.add(Dense(1, activation = 'sigmoid'))\n",
    "dnn.summary()"
   ]
  },
  {
   "cell_type": "code",
   "execution_count": 539,
   "metadata": {},
   "outputs": [],
   "source": [
    "dnn.compile(loss='binary_crossentropy', optimizer='adam', metrics=['accuracy'])"
   ]
  },
  {
   "cell_type": "code",
   "execution_count": 540,
   "metadata": {},
   "outputs": [],
   "source": [
    "callback = tf.keras.callbacks.EarlyStopping(monitor='val_accuracy', \n",
    "                                            mode='auto',\n",
    "                                            restore_best_weights=True)"
   ]
  },
  {
   "cell_type": "code",
   "execution_count": 541,
   "metadata": {},
   "outputs": [
    {
     "name": "stderr",
     "output_type": "stream",
     "text": [
      "/Users/ravimalde/opt/anaconda3/envs/learn-env/lib/python3.6/site-packages/tensorflow_core/python/framework/indexed_slices.py:424: UserWarning: Converting sparse IndexedSlices to a dense Tensor of unknown shape. This may consume a large amount of memory.\n",
      "  \"Converting sparse IndexedSlices to a dense Tensor of unknown shape. \"\n"
     ]
    },
    {
     "name": "stdout",
     "output_type": "stream",
     "text": [
      "Train on 38038 samples, validate on 4227 samples\n",
      "Epoch 1/10\n",
      "38038/38038 [==============================] - 7s 177us/step - loss: 0.2561 - accuracy: 0.9154 - val_loss: 0.1119 - val_accuracy: 0.9588\n",
      "Epoch 2/10\n",
      "38038/38038 [==============================] - 5s 143us/step - loss: 0.1311 - accuracy: 0.9634 - val_loss: 0.1051 - val_accuracy: 0.9617\n",
      "Epoch 3/10\n",
      "38038/38038 [==============================] - 5s 141us/step - loss: 0.1050 - accuracy: 0.9670 - val_loss: 0.1017 - val_accuracy: 0.9659\n",
      "Epoch 4/10\n",
      "38038/38038 [==============================] - 5s 140us/step - loss: 0.0935 - accuracy: 0.9686 - val_loss: 0.1080 - val_accuracy: 0.9669\n",
      "Epoch 5/10\n",
      "38038/38038 [==============================] - 5s 140us/step - loss: 0.0849 - accuracy: 0.9717 - val_loss: 0.1093 - val_accuracy: 0.9633\n"
     ]
    }
   ],
   "source": [
    "history1 = dnn.fit(X_train,\n",
    "                  y_train,\n",
    "                  epochs=10,\n",
    "                  callbacks=[callback], \n",
    "                  validation_data=(X_val, y_val))"
   ]
  },
  {
   "cell_type": "code",
   "execution_count": 550,
   "metadata": {},
   "outputs": [
    {
     "data": {
      "image/png": "[encoded data removed]",
      "text/plain": [
       "<Figure size 720x432 with 1 Axes>"
      ]
     },
     "metadata": {
      "needs_background": "light"
     },
     "output_type": "display_data"
    }
   ],
   "source": [
    "plt.figure(figsize=(10,6))\n",
    "plt.plot(history1.history['accuracy'], label='Training Accuracy')\n",
    "plt.plot(history1.history['val_accuracy'], label = 'Validation Accuracy')\n",
    "plt.xlabel('Epoch', fontsize=13)\n",
    "plt.ylabel('Accuracy', fontsize=13)\n",
    "plt.xlim(0,4)\n",
    "plt.ylim(0.90, 1)\n",
    "plt.legend(loc='lower right', fontsize=11)\n",
    "plt.show()"
   ]
  },
  {
   "cell_type": "code",
   "execution_count": 489,
   "metadata": {},
   "outputs": [
    {
     "name": "stdout",
     "output_type": "stream",
     "text": [
      "4227/4227 [==============================] - 0s 26us/step\n"
     ]
    }
   ],
   "source": [
    "val_score = dnn.evaluate(X_val, y_val)"
   ]
  },
  {
   "cell_type": "code",
   "execution_count": 490,
   "metadata": {},
   "outputs": [
    {
     "name": "stdout",
     "output_type": "stream",
     "text": [
      "Model val loss: 0.098 \n",
      "Model val accuracy: 96.71%\n"
     ]
    }
   ],
   "source": [
    "print(f'Model val loss: {round(val_score[0], 3)} \\nModel val accuracy: {round(val_score[1]*100, 2)}%')"
   ]
  },
  {
   "cell_type": "code",
   "execution_count": 491,
   "metadata": {},
   "outputs": [
    {
     "name": "stdout",
     "output_type": "stream",
     "text": [
      "4697/4697 [==============================] - 0s 26us/step\n"
     ]
    }
   ],
   "source": [
    "test_score = dnn.evaluate(X_test, y_test)"
   ]
  },
  {
   "cell_type": "code",
   "execution_count": 492,
   "metadata": {},
   "outputs": [
    {
     "name": "stdout",
     "output_type": "stream",
     "text": [
      "Model test loss: 0.097 \n",
      "Model test accuracy: 96.66%\n"
     ]
    }
   ],
   "source": [
    "print(f'Model test loss: {round(test_score[0], 3)} \\nModel test accuracy: {round(test_score[1]*100, 2)}%')"
   ]
  },
  {
   "cell_type": "markdown",
   "metadata": {},
   "source": [
    "### 5.2. Convolutional Neural Network"
   ]
  },
  {
   "cell_type": "code",
   "execution_count": 508,
   "metadata": {},
   "outputs": [
    {
     "name": "stdout",
     "output_type": "stream",
     "text": [
      "Model: \"sequential_40\"\n",
      "_________________________________________________________________\n",
      "Layer (type)                 Output Shape              Param #   \n",
      "=================================================================\n",
      "embedding_21 (Embedding)     (None, 20, 32)            48000     \n",
      "_________________________________________________________________\n",
      "conv1d_44 (Conv1D)           (None, 20, 64)            6208      \n",
      "_________________________________________________________________\n",
      "max_pooling1d_23 (MaxPooling (None, 10, 64)            0         \n",
      "_________________________________________________________________\n",
      "dropout_16 (Dropout)         (None, 10, 64)            0         \n",
      "_________________________________________________________________\n",
      "conv1d_45 (Conv1D)           (None, 10, 64)            12352     \n",
      "_________________________________________________________________\n",
      "max_pooling1d_24 (MaxPooling (None, 5, 64)             0         \n",
      "_________________________________________________________________\n",
      "dropout_17 (Dropout)         (None, 5, 64)             0         \n",
      "_________________________________________________________________\n",
      "conv1d_46 (Conv1D)           (None, 5, 64)             12352     \n",
      "_________________________________________________________________\n",
      "flatten_10 (Flatten)         (None, 320)               0         \n",
      "_________________________________________________________________\n",
      "dense_48 (Dense)             (None, 8)                 2568      \n",
      "_________________________________________________________________\n",
      "dropout_18 (Dropout)         (None, 8)                 0         \n",
      "_________________________________________________________________\n",
      "dense_49 (Dense)             (None, 1)                 9         \n",
      "=================================================================\n",
      "Total params: 81,489\n",
      "Trainable params: 81,489\n",
      "Non-trainable params: 0\n",
      "_________________________________________________________________\n"
     ]
    }
   ],
   "source": [
    "cnn = Sequential()\n",
    "cnn.add(Embedding(input_dim=1500, output_dim=32, input_length=20))\n",
    "cnn.add(Conv1D(64, 3, activation='relu', padding='same'))\n",
    "cnn.add(MaxPooling1D(2))\n",
    "cnn.add(Dropout(0.3))\n",
    "cnn.add(Conv1D(64, 3, activation='relu', padding='same'))\n",
    "cnn.add(MaxPooling1D(2))\n",
    "cnn.add(Dropout(0.3))\n",
    "cnn.add(Conv1D(64, 3, activation='relu', padding='same'))\n",
    "cnn.add(Flatten())\n",
    "cnn.add(Dense(8, activation='relu'))\n",
    "cnn.add(Dropout(0.3))\n",
    "cnn.add(Dense(1, activation='sigmoid'))\n",
    "cnn.summary()"
   ]
  },
  {
   "cell_type": "code",
   "execution_count": 509,
   "metadata": {},
   "outputs": [],
   "source": [
    "cnn.compile(loss='binary_crossentropy', optimizer='adam', metrics=['accuracy'])"
   ]
  },
  {
   "cell_type": "code",
   "execution_count": 510,
   "metadata": {},
   "outputs": [],
   "source": [
    "callback = tf.keras.callbacks.EarlyStopping(monitor='val_accuracy', \n",
    "                                            mode='auto',\n",
    "                                            restore_best_weights=True)"
   ]
  },
  {
   "cell_type": "code",
   "execution_count": 511,
   "metadata": {},
   "outputs": [
    {
     "name": "stderr",
     "output_type": "stream",
     "text": [
      "/Users/ravimalde/opt/anaconda3/envs/learn-env/lib/python3.6/site-packages/tensorflow_core/python/framework/indexed_slices.py:424: UserWarning: Converting sparse IndexedSlices to a dense Tensor of unknown shape. This may consume a large amount of memory.\n",
      "  \"Converting sparse IndexedSlices to a dense Tensor of unknown shape. \"\n"
     ]
    },
    {
     "name": "stdout",
     "output_type": "stream",
     "text": [
      "Train on 38038 samples, validate on 4227 samples\n",
      "Epoch 1/10\n",
      "38038/38038 [==============================] - 15s 388us/step - loss: 0.2264 - accuracy: 0.9277 - val_loss: 0.1089 - val_accuracy: 0.9607\n",
      "Epoch 2/10\n",
      "38038/38038 [==============================] - 13s 352us/step - loss: 0.1279 - accuracy: 0.9657 - val_loss: 0.0882 - val_accuracy: 0.9697\n",
      "Epoch 3/10\n",
      "38038/38038 [==============================] - 13s 349us/step - loss: 0.0989 - accuracy: 0.9716 - val_loss: 0.0892 - val_accuracy: 0.9702\n",
      "Epoch 4/10\n",
      "38038/38038 [==============================] - 13s 351us/step - loss: 0.0782 - accuracy: 0.9771 - val_loss: 0.0808 - val_accuracy: 0.9737\n",
      "Epoch 5/10\n",
      "38038/38038 [==============================] - 13s 347us/step - loss: 0.0621 - accuracy: 0.9817 - val_loss: 0.0832 - val_accuracy: 0.9759\n",
      "Epoch 6/10\n",
      "38038/38038 [==============================] - 13s 338us/step - loss: 0.0496 - accuracy: 0.9857 - val_loss: 0.1065 - val_accuracy: 0.9711\n"
     ]
    }
   ],
   "source": [
    "history2 = cnn.fit(X_train,\n",
    "                  y_train,\n",
    "                  epochs=10,\n",
    "                  callbacks=[callback], \n",
    "                  validation_data=(X_val, y_val))"
   ]
  },
  {
   "cell_type": "code",
   "execution_count": 553,
   "metadata": {},
   "outputs": [
    {
     "data": {
      "image/png": "[encoded data removed]",
      "text/plain": [
       "<Figure size 720x432 with 1 Axes>"
      ]
     },
     "metadata": {
      "needs_background": "light"
     },
     "output_type": "display_data"
    }
   ],
   "source": [
    "plt.figure(figsize=(10,6))\n",
    "plt.plot(history2.history['accuracy'], label='Training Accuracy')\n",
    "plt.plot(history2.history['val_accuracy'], label = 'Validation Accuracy')\n",
    "plt.xlabel('Epoch', fontsize=13)\n",
    "plt.ylabel('Accuracy', fontsize=13)\n",
    "plt.xlim(0,5)\n",
    "plt.ylim(0.90, 1)\n",
    "plt.legend(loc='lower right', fontsize=11)\n",
    "plt.show()"
   ]
  },
  {
   "cell_type": "code",
   "execution_count": 516,
   "metadata": {},
   "outputs": [
    {
     "name": "stdout",
     "output_type": "stream",
     "text": [
      "4227/4227 [==============================] - 0s 103us/step\n"
     ]
    }
   ],
   "source": [
    "val_score = cnn.evaluate(X_val, y_val)"
   ]
  },
  {
   "cell_type": "code",
   "execution_count": 517,
   "metadata": {},
   "outputs": [
    {
     "name": "stdout",
     "output_type": "stream",
     "text": [
      "Model val loss: 0.083 \n",
      "Model val accuracy: 97.59%\n"
     ]
    }
   ],
   "source": [
    "print(f'Model val loss: {round(val_score[0], 3)} \\nModel val accuracy: {round(val_score[1]*100, 2)}%')"
   ]
  },
  {
   "cell_type": "code",
   "execution_count": 518,
   "metadata": {},
   "outputs": [
    {
     "name": "stdout",
     "output_type": "stream",
     "text": [
      "4697/4697 [==============================] - 0s 104us/step\n"
     ]
    }
   ],
   "source": [
    "test_score = cnn.evaluate(X_test, y_test)"
   ]
  },
  {
   "cell_type": "code",
   "execution_count": 519,
   "metadata": {},
   "outputs": [
    {
     "name": "stdout",
     "output_type": "stream",
     "text": [
      "Model loss: 0.077 \n",
      "Model accuracy: 97.64%\n"
     ]
    }
   ],
   "source": [
    "print(f'Model loss: {round(test_score[0], 3)} \\nModel accuracy: {round(test_score[1]*100, 2)}%')"
   ]
  },
  {
   "cell_type": "code",
   "execution_count": 520,
   "metadata": {},
   "outputs": [],
   "source": [
    "cnn.save(\"conv_net.h5\")"
   ]
  },
  {
   "cell_type": "code",
   "execution_count": 530,
   "metadata": {},
   "outputs": [],
   "source": [
    "def predict_review(model, sentence):\n",
    "    sentence = tokenizer.texts_to_sequences([sentence])\n",
    "    sentence = pad_sequences(sentence, padding='post', truncating='post', maxlen=20)\n",
    "    prediction = model.predict(sentence)\n",
    "    probability = prediction[0][0]\n",
    "    if prediction[0] > 0.5:\n",
    "        print(f'This news article is FAKE! \\nThe model is {np.round(probability * 100, 1)}% confident that this is the headline of a fake news article.')\n",
    "    if prediction[0] < 0.5:\n",
    "        print(f'This news article is REAL! \\nThe model is {np.round((1-probability) * 100, 1)}% confident that this is the headline of a real news article.')\n",
    "        "
   ]
  },
  {
   "cell_type": "code",
   "execution_count": 531,
   "metadata": {},
   "outputs": [],
   "source": [
    "headline = \"Fake news is real!\""
   ]
  },
  {
   "cell_type": "code",
   "execution_count": 532,
   "metadata": {},
   "outputs": [
    {
     "name": "stdout",
     "output_type": "stream",
     "text": [
      "This news article is FAKE! \n",
      "The model is 96.5% confident that this is the headline of a fake news article.\n"
     ]
    }
   ],
   "source": [
    "predict_review(model, headline)"
   ]
  }
 ],
 "metadata": {
  "kernelspec": {
   "display_name": "Python 3",
   "language": "python",
   "name": "python3"
  },
  "language_info": {
   "codemirror_mode": {
    "name": "ipython",
    "version": 3
   },
   "file_extension": ".py",
   "mimetype": "text/x-python",
   "name": "python",
   "nbconvert_exporter": "python",
   "pygments_lexer": "ipython3",
   "version": "3.6.9"
  }
 },
 "nbformat": 4,
 "nbformat_minor": 4
}
